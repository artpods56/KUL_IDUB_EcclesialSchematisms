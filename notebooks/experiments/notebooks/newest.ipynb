{
 "cells": [
  {
   "cell_type": "code",
   "id": "initial_id",
   "metadata": {
    "collapsed": true,
    "ExecuteTime": {
     "end_time": "2025-07-11T08:34:04.735819Z",
     "start_time": "2025-07-11T08:34:04.689812Z"
    }
   },
   "source": [
    "from IPython.display import display\n",
    "\n",
    "from core.utils.logging import setup_logging\n",
    "setup_logging()\n",
    "import structlog\n",
    "logger = structlog.get_logger(__name__)\n",
    "\n",
    "from dotenv import load_dotenv\n",
    "load_dotenv()\n",
    "logger.info(\"Loaded environment variables.\")"
   ],
   "outputs": [
    {
     "name": "stdout",
     "output_type": "stream",
     "text": [
      "\u001B[2m2025-07-11 08:34:04.731269\u001B[0m [\u001B[32m\u001B[1minfo     \u001B[0m] \u001B[1mLogging setup complete.       \u001B[0m [\u001B[0m\u001B[1m\u001B[34mcore.utils.logging\u001B[0m]\u001B[0m\n",
      "\u001B[2m2025-07-11 08:34:04.733310\u001B[0m [\u001B[32m\u001B[1minfo     \u001B[0m] \u001B[1mLoaded environment variables. \u001B[0m [\u001B[0m\u001B[1m\u001B[34m__main__\u001B[0m]\u001B[0m\n"
     ]
    }
   ],
   "execution_count": 5
  },
  {
   "cell_type": "code",
   "id": "944afce82a8d2423",
   "metadata": {
    "ExecuteTime": {
     "end_time": "2025-07-11T08:34:06.820031Z",
     "start_time": "2025-07-11T08:34:06.788442Z"
    }
   },
   "source": [
    "%load_ext autoreload\n",
    "%autoreload 2\n",
    "\n",
    "import os\n",
    "import json\n",
    "from tqdm import tqdm\n",
    "from datasets import Dataset\n",
    "\n",
    "from core.utils.shared import CONFIGS_DIR\n",
    "from core.config.manager import ConfigManager\n",
    "\n",
    "from core.models.llm.model import LLMModel\n",
    "from core.models.lmv3.model import LMv3Model\n",
    "\n",
    "from core.data.utils import get_dataset\n",
    "from core.data.stats import evaluate_json_response\n",
    "from core.data.filters import filter_schematisms\n",
    "\n",
    "from core.data.schematism_parser import SchematismParser\n",
    "from core.data.translation_parser import Parser\n"
   ],
   "outputs": [
    {
     "name": "stdout",
     "output_type": "stream",
     "text": [
      "The autoreload extension is already loaded. To reload it, use:\n",
      "  %reload_ext autoreload\n"
     ]
    }
   ],
   "execution_count": 6
  },
  {
   "metadata": {
    "ExecuteTime": {
     "end_time": "2025-07-11T08:34:09.318140Z",
     "start_time": "2025-07-11T08:34:09.288589Z"
    }
   },
   "cell_type": "code",
   "source": [
    "config_manager = ConfigManager(CONFIGS_DIR)\n",
    "\n",
    "config_manager.available_configs"
   ],
   "id": "313c79745dd38b58",
   "outputs": [
    {
     "data": {
      "text/plain": [
       "{'dataset': {'default': ['config',\n",
       "   'datasetconfig',\n",
       "   'default2',\n",
       "   'schematism_dataset_config',\n",
       "   'streamed_dataset',\n",
       "   'tests_dataset_config'],\n",
       "  'lmv3_training': ['default']},\n",
       " 'models': {'default': ['config'],\n",
       "  'llm': ['default',\n",
       "   'evaluation_config',\n",
       "   'llmmodelconfig',\n",
       "   'tests_llm_config',\n",
       "   'wandb'],\n",
       "  'lmv3': ['config', 'default', 'lmv3modelconfig', 'tests_lmv3_config']},\n",
       " 'wandb': {'default': ['tests_wandb_config']}}"
      ]
     },
     "execution_count": 7,
     "metadata": {},
     "output_type": "execute_result"
    }
   ],
   "execution_count": 7
  },
  {
   "metadata": {
    "ExecuteTime": {
     "end_time": "2025-07-11T08:34:11.180674Z",
     "start_time": "2025-07-11T08:34:11.152853Z"
    }
   },
   "cell_type": "code",
   "source": "from core.config.registry import ConfigType, ModelsConfigSubtype, DatasetConfigSubtype",
   "id": "922e2c9ce1992c3a",
   "outputs": [],
   "execution_count": 8
  },
  {
   "metadata": {},
   "cell_type": "code",
   "source": [
    "\n",
    "config_manager.load_config(ConfigType.MODELS, DatasetConfigSubtype.DEFAULT, \"default\")"
   ],
   "id": "f78389c579e0cdd0",
   "outputs": [],
   "execution_count": null
  },
  {
   "metadata": {},
   "cell_type": "code",
   "source": "config_manager.load_config(\"dataset\", \"default\", \"default\")",
   "id": "bccec0eca131e4b",
   "outputs": [],
   "execution_count": null
  },
  {
   "cell_type": "code",
   "id": "556ec35d1ffe4027",
   "metadata": {},
   "source": [
    "dataset_config = config_manager.load_config(config_type=\"dataset\", config_subtype=,\n",
    "                                            config_name=\"schematism_dataset_config\")\n",
    "\n",
    "llm_config = config_manager.load_config(config_type=\"llm\", config_subtype=, config_name=\"llmmodelconfig\")\n",
    "\n",
    "lmv3_config = config_manager.load_config(config_type=\"lmv3\", config_subtype=, config_name=\"lmv3modelconfig\")"
   ],
   "outputs": [],
   "execution_count": null
  },
  {
   "metadata": {},
   "cell_type": "code",
   "source": "",
   "id": "5e034a0cb76127",
   "outputs": [],
   "execution_count": null
  },
  {
   "metadata": {},
   "cell_type": "code",
   "source": "lmv3_config",
   "id": "b3f03235984de2c3",
   "outputs": [],
   "execution_count": null
  },
  {
   "metadata": {},
   "cell_type": "code",
   "source": [
    "lmv3_model = LMv3Model(lmv3_config, enable_cache=True)\n",
    "llm_model = LLMModel(llm_config, enable_cache=True)"
   ],
   "id": "7f3a5108119c98de",
   "outputs": [],
   "execution_count": null
  },
  {
   "cell_type": "code",
   "id": "8cde65a3d6e8b806",
   "metadata": {},
   "source": [
    "dataset = get_dataset(dataset_config)"
   ],
   "outputs": [],
   "execution_count": null
  },
  {
   "metadata": {},
   "cell_type": "code",
   "source": "dataset.features",
   "id": "344ef3f88c1ee3a9",
   "outputs": [],
   "execution_count": null
  },
  {
   "metadata": {},
   "cell_type": "code",
   "source": [
    "def filter_schematisms2(schematisms_to_filter: set):\n",
    "    def _filter_fn(schematism_name):\n",
    "        return schematism_name in schematisms_to_filter\n",
    "    return _filter_fn"
   ],
   "id": "da853600cf0349fe",
   "outputs": [],
   "execution_count": null
  },
  {
   "metadata": {},
   "cell_type": "code",
   "source": "filtered2 = dataset.filter(filter_schematisms2([\"wloclawek_1872\", \"wloclawek_1873\"]), input_columns=[\"schematism_name\"])",
   "id": "95d11a51cce7acc",
   "outputs": [],
   "execution_count": null
  },
  {
   "metadata": {},
   "cell_type": "code",
   "source": "filtered2",
   "id": "78f235ac23494c95",
   "outputs": [],
   "execution_count": null
  },
  {
   "metadata": {},
   "cell_type": "code",
   "source": "sample = filtered2[22]",
   "id": "537d1fbdc2cd1447",
   "outputs": [],
   "execution_count": null
  },
  {
   "metadata": {},
   "cell_type": "code",
   "source": "predicted_result = llm_model.predict(image=sample[\"image\"])",
   "id": "67c51c797ac12f21",
   "outputs": [],
   "execution_count": null
  },
  {
   "metadata": {},
   "cell_type": "code",
   "source": "display(sample[\"image\"])",
   "id": "44614a7871de4071",
   "outputs": [],
   "execution_count": null
  },
  {
   "metadata": {},
   "cell_type": "code",
   "source": "json.loads(sample[\"results\"])",
   "id": "4aa060aecc67d41f",
   "outputs": [],
   "execution_count": null
  },
  {
   "metadata": {},
   "cell_type": "code",
   "source": "predicted_result",
   "id": "8133530b2b3c7656",
   "outputs": [],
   "execution_count": null
  },
  {
   "metadata": {},
   "cell_type": "code",
   "source": [
    "lmv3_prediction = lmv3_model.predict(sample[\"image\"])\n",
    "lmv3_prediction"
   ],
   "id": "a32ef4c4f78ac126",
   "outputs": [],
   "execution_count": null
  },
  {
   "metadata": {},
   "cell_type": "code",
   "source": "",
   "id": "b7c7f529783a05fd",
   "outputs": [],
   "execution_count": null
  },
  {
   "metadata": {},
   "cell_type": "code",
   "source": "CONFIG_TYPE_ROUTING[ConfigGroup.MODELS][ModelConfigType.LLM]",
   "id": "3979103bbce11822",
   "outputs": [],
   "execution_count": null
  },
  {
   "metadata": {},
   "cell_type": "code",
   "source": "from core.config.registry import get_config_schema, ConfigType",
   "id": "f80119bd6a0527c0",
   "outputs": [],
   "execution_count": null
  },
  {
   "metadata": {},
   "cell_type": "code",
   "source": [
    "from core.schemas.configs.dataset_config import SchematismsEvaluationDatasetConfig\n",
    "config = get_config_schema(\"dataset\", \"evaluation\")"
   ],
   "id": "414916516e1e0ab4",
   "outputs": [],
   "execution_count": null
  },
  {
   "metadata": {},
   "cell_type": "code",
   "source": "config",
   "id": "f965124b494dbadf",
   "outputs": [],
   "execution_count": null
  }
 ],
 "metadata": {
  "kernelspec": {
   "display_name": "conda (ocr)",
   "language": "python",
   "name": "ocr"
  },
  "language_info": {
   "codemirror_mode": {
    "name": "ipython",
    "version": 2
   },
   "file_extension": ".py",
   "mimetype": "text/x-python",
   "name": "python",
   "nbconvert_exporter": "python",
   "pygments_lexer": "ipython2",
   "version": "3.12.9"
  }
 },
 "nbformat": 4,
 "nbformat_minor": 5
}
